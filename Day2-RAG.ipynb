{
 "cells": [
  {
   "cell_type": "code",
   "execution_count": 1,
   "id": "86cf4c9a",
   "metadata": {},
   "outputs": [
    {
     "name": "stderr",
     "output_type": "stream",
     "text": [
      "USER_AGENT environment variable not set, consider setting it to identify your requests.\n"
     ]
    }
   ],
   "source": [
    "import bs4\n",
    "from langchain_community.document_loaders import WebBaseLoader\n",
    "from langchain_text_splitters import RecursiveCharacterTextSplitter\n",
    "from langchain_community.vectorstores import FAISS\n",
    "from langchain.embeddings import HuggingFaceEmbeddings\n",
    "from langchain_core.documents import Document\n",
    "from langgraph.graph import StateGraph, START\n",
    "from typing_extensions import TypedDict, List\n",
    "from langchain_community.vectorstores import SupabaseVectorStore\n",
    "from langchain_community.document_loaders import WebBaseLoader\n",
    "from langchain_text_splitters import RecursiveCharacterTextSplitter\n",
    "from langchain.embeddings import HuggingFaceEmbeddings\n",
    "from supabase.client import create_client"
   ]
  },
  {
   "cell_type": "markdown",
   "id": "34e829aa",
   "metadata": {},
   "source": [
    "## Step 1: Create a function for Deepseek Call"
   ]
  },
  {
   "cell_type": "code",
   "execution_count": 2,
   "id": "573dcf95",
   "metadata": {},
   "outputs": [],
   "source": [
    "import requests\n",
    "import os\n",
    "DEEPSEEK_API_KEY = os.getenv(\"DEEPSEEK_API_KEY\")\n",
    "DEEPSEEK_URL = \"https://api.deepseek.com/v1/chat/completions\"\n",
    "\n",
    "def call_deepseek(question, context):\n",
    "    headers = {\n",
    "        \"Authorization\": f\"Bearer {DEEPSEEK_API_KEY}\",\n",
    "        \"Content-Type\": \"application/json\"\n",
    "    }\n",
    "    messages = [\n",
    "        {\"role\": \"system\", \"content\": \"You are a helpful assistant.\"},\n",
    "        {\"role\": \"user\", \"content\": f\"Answer the question based on the context below:\\n\\nContext:\\n{context}\\n\\nQuestion:\\n{question}\"}\n",
    "    ]\n",
    "    payload = {\n",
    "        \"model\": \"deepseek-chat\",\n",
    "        \"messages\": messages,\n",
    "        \"temperature\": 0.7,\n",
    "        \"max_tokens\": 512\n",
    "    }\n",
    "\n",
    "    response = requests.post(DEEPSEEK_URL, headers=headers, json=payload)\n",
    "    response.raise_for_status()\n",
    "    return response.json()[\"choices\"][0][\"message\"][\"content\"]\n"
   ]
  },
  {
   "cell_type": "code",
   "execution_count": 5,
   "id": "ca0c6edc",
   "metadata": {},
   "outputs": [
    {
     "name": "stdout",
     "output_type": "stream",
     "text": [
      "Dallas, Texas, is known for its vibrant food scene, blending Southern comfort food, Tex-Mex, barbecue, and modern culinary innovations. Here are some must-try foods in Dallas:\n",
      "\n",
      "### 1. **Texas BBQ**  \n",
      "   - **What to try**: Brisket (especially the moist cut), ribs, sausage, and smoked turkey.  \n",
      "   - **Where to go**:  \n",
      "     - **Pecan Lodge** (Deep Ellum) – Famous for its brisket and \"Hot Mess\" (sweet potato with brisket).  \n",
      "     - **Terry Black’s BBQ** (Deep Ellum) – Renowned for melt-in-your-mouth beef ribs.  \n",
      "     - **Lockhart Smokehouse** (Bishop Arts) – Authentic Central Texas-style BBQ.\n",
      "\n",
      "### 2. **Tex-Mex**  \n",
      "   - **What to try**: Breakfast tacos, queso, enchiladas, and fajitas.  \n",
      "   - **Where to go**:  \n",
      "     - **Mi Cocina** (Highland Park) – Known for its \"Mambo Taxi\" margarita and Tex-Mex classics.  \n",
      "     - **El Fenix** (Downtown) – A Dallas staple since 1918.  \n",
      "     - **Torchy’s Tacos** (Multiple locations) – Famous for creative tacos like the \"Trailer Park\" (fried chicken).  \n",
      "\n",
      "### 3. **Chicken-Fried Steak**  \n",
      "   - A Southern classic: Tenderized steak breaded, fried, and smothered in creamy gravy.  \n",
      "   - **Where to go**:  \n",
      "     - **Babe’s Chicken Dinner House** (Multiple locations) – Served with sides like mashed potatoes and fried okra.  \n",
      "     - **AllGood Cafe** (Deep Ellum) – A local favorite for homestyle cooking.  \n",
      "\n",
      "### 4. **Kolaches**  \n",
      "   - Czech-inspired pastries filled with sausage, cheese, or fruit.  \n",
      "   - **Where to go**:  \n",
      "     - **The Kolache Factory** (Multiple locations) – Sweet and savory options.  \n",
      "     - **Czech Stop** (West, TX – a short drive) – Worth the trip for authentic kolaches.  \n",
      "\n",
      "### 5. **Dallas-Style Burgers**  \n",
      "   - **What to try**: Juicy, no-frills burgers with creative toppings.  \n",
      "   - **Where to go**:  \n",
      "     - **Maple & Motor**\n"
     ]
    }
   ],
   "source": [
    "response=call_deepseek(\"best food to have\",\"I am in Dallas, Texas.\")\n",
    "print(response)"
   ]
  },
  {
   "cell_type": "markdown",
   "id": "b6d5d38e",
   "metadata": {},
   "source": [
    "# Step 2: Load documents, Split, and Index."
   ]
  },
  {
   "cell_type": "code",
   "execution_count": 3,
   "id": "2b12707f",
   "metadata": {},
   "outputs": [
    {
     "name": "stderr",
     "output_type": "stream",
     "text": [
      "/tmp/ipykernel_24352/2293971527.py:8: LangChainDeprecationWarning: The class `HuggingFaceEmbeddings` was deprecated in LangChain 0.2.2 and will be removed in 1.0. An updated version of the class exists in the :class:`~langchain-huggingface package and should be used instead. To use it run `pip install -U :class:`~langchain-huggingface` and import as `from :class:`~langchain_huggingface import HuggingFaceEmbeddings``.\n",
      "  embeddings = HuggingFaceEmbeddings(model_name=\"all-MiniLM-L6-v2\")\n",
      "/home/vscode/.local/lib/python3.11/site-packages/tqdm/auto.py:21: TqdmWarning: IProgress not found. Please update jupyter and ipywidgets. See https://ipywidgets.readthedocs.io/en/stable/user_install.html\n",
      "  from .autonotebook import tqdm as notebook_tqdm\n"
     ]
    }
   ],
   "source": [
    "#url=\"https://www.healthline.com/health/bodyweight-workout\"\n",
    "url=\"http://www.plansum.cn/gerenjihua/73374.html\"\n",
    "loader = WebBaseLoader([url])\n",
    "docs = loader.load()\n",
    "splitter = RecursiveCharacterTextSplitter(chunk_size=100,chunk_overlap=15)\n",
    "splits = splitter.split_documents(docs)\n",
    " \n",
    "embeddings = HuggingFaceEmbeddings(model_name=\"all-MiniLM-L6-v2\")"
   ]
  },
  {
   "cell_type": "code",
   "execution_count": 18,
   "id": "b56799d8",
   "metadata": {},
   "outputs": [
    {
     "data": {
      "text/plain": [
       "[Document(metadata={'source': 'http://www.plansum.cn/gerenjihua/73374.html', 'title': '健身房健身计划(精选5篇)', 'description': '胸部、肱三头肌、腹部胸部：杠铃卧推3/组12/次哑铃飞鸟3/组12/次俯卧撑3/组12/次肱三头肌:仰卧撑3/组12/次哑铃颈后屈臂3/组12/次腹部：仰卧起坐3/组20/次仰卧举腿3/组20/次星期', 'language': 'No language found.'}, page_content='健身房健身计划(精选5篇)\\n\\n\\n\\n\\n\\n\\n\\n\\n\\n\\n\\n\\n\\n\\n\\n\\n\\n\\n个人计划年度计划月度计划明年计划班主任计划班级计划其他计划商业计划'),\n",
       " Document(metadata={'source': 'http://www.plansum.cn/gerenjihua/73374.html', 'title': '健身房健身计划(精选5篇)', 'description': '胸部、肱三头肌、腹部胸部：杠铃卧推3/组12/次哑铃飞鸟3/组12/次俯卧撑3/组12/次肱三头肌:仰卧撑3/组12/次哑铃颈后屈臂3/组12/次腹部：仰卧起坐3/组20/次仰卧举腿3/组20/次星期', 'language': 'No language found.'}, page_content='计划总结网 > 工作计划 > 个人计划 >\\n\\n\\n\\n\\n健身房健身计划\\n\\n时间：2024-08-14 15:53:13\\n小龙\\n个人计划'),\n",
       " Document(metadata={'source': 'http://www.plansum.cn/gerenjihua/73374.html', 'title': '健身房健身计划(精选5篇)', 'description': '胸部、肱三头肌、腹部胸部：杠铃卧推3/组12/次哑铃飞鸟3/组12/次俯卧撑3/组12/次肱三头肌:仰卧撑3/组12/次哑铃颈后屈臂3/组12/次腹部：仰卧起坐3/组20/次仰卧举腿3/组20/次星期', 'language': 'No language found.'}, page_content='胸部、肱三头肌、腹部胸部：杠铃卧推 3/组 12/次哑铃飞鸟 3/组 12/次俯卧撑 3/组 12/次肱三头肌:仰卧撑 3/组 12/次哑铃颈后屈臂 3/组 12/次腹部：仰卧起坐 3/组'),\n",
       " Document(metadata={'source': 'http://www.plansum.cn/gerenjihua/73374.html', 'title': '健身房健身计划(精选5篇)', 'description': '胸部、肱三头肌、腹部胸部：杠铃卧推3/组12/次哑铃飞鸟3/组12/次俯卧撑3/组12/次肱三头肌:仰卧撑3/组12/次哑铃颈后屈臂3/组12/次腹部：仰卧起坐3/组20/次仰卧举腿3/组20/次星期', 'language': 'No language found.'}, page_content='3/组 20/次仰卧举腿 3/组 20/次星期三背部、肱二头肌、腹部背部：引体向上 3/组 8/次颈前下拉 3/组 12/次哑铃划船 3/组 12/次肱二头肌：哑铃弯举 3/组 12/次斜板弯举'),\n",
       " Document(metadata={'source': 'http://www.plansum.cn/gerenjihua/73374.html', 'title': '健身房健身计划(精选5篇)', 'description': '胸部、肱三头肌、腹部胸部：杠铃卧推3/组12/次哑铃飞鸟3/组12/次俯卧撑3/组12/次肱三头肌:仰卧撑3/组12/次哑铃颈后屈臂3/组12/次腹部：仰卧起坐3/组20/次仰卧举腿3/组20/次星期', 'language': 'No language found.'}, page_content='3/组 12/次斜板弯举 3/组 12/次腹部：仰卧起坐 3/组 20/次仰卧举腿 3/组 20/次星期五腿部、肩部、腹部腿部：杠铃深蹲 3/组 12/次哑铃提踵 3/组 20/次肩部：哑铃坐姿推举'),\n",
       " Document(metadata={'source': 'http://www.plansum.cn/gerenjihua/73374.html', 'title': '健身房健身计划(精选5篇)', 'description': '胸部、肱三头肌、腹部胸部：杠铃卧推3/组12/次哑铃飞鸟3/组12/次俯卧撑3/组12/次肱三头肌:仰卧撑3/组12/次哑铃颈后屈臂3/组12/次腹部：仰卧起坐3/组20/次仰卧举腿3/组20/次星期', 'language': 'No language found.'}, page_content='20/次肩部：哑铃坐姿推举 3/组 12/次杠铃颈后推举 3/组 12/次哑铃侧平举 3/组 12/次腹部：仰卧起坐 3/组 20/次仰卧举腿 3/组'),\n",
       " Document(metadata={'source': 'http://www.plansum.cn/gerenjihua/73374.html', 'title': '健身房健身计划(精选5篇)', 'description': '胸部、肱三头肌、腹部胸部：杠铃卧推3/组12/次哑铃飞鸟3/组12/次俯卧撑3/组12/次肱三头肌:仰卧撑3/组12/次哑铃颈后屈臂3/组12/次腹部：仰卧起坐3/组20/次仰卧举腿3/组20/次星期', 'language': 'No language found.'}, page_content='20/次仰卧举腿 3/组 20/次健身房健身计划篇2胸、前臂外侧、腹部胸： 卧推 8、6、6、8上斜哑铃飞鸟 12、10、12蝴蝶夹胸 15、12、15前臂外侧： 杠铃反弯举'),\n",
       " Document(metadata={'source': 'http://www.plansum.cn/gerenjihua/73374.html', 'title': '健身房健身计划(精选5篇)', 'description': '胸部、肱三头肌、腹部胸部：杠铃卧推3/组12/次哑铃飞鸟3/组12/次俯卧撑3/组12/次肱三头肌:仰卧撑3/组12/次哑铃颈后屈臂3/组12/次腹部：仰卧起坐3/组20/次仰卧举腿3/组20/次星期', 'language': 'No language found.'}, page_content='杠铃反弯举 12、10、10、12哑铃腕屈伸'),\n",
       " Document(metadata={'source': 'http://www.plansum.cn/gerenjihua/73374.html', 'title': '健身房健身计划(精选5篇)', 'description': '胸部、肱三头肌、腹部胸部：杠铃卧推3/组12/次哑铃飞鸟3/组12/次俯卧撑3/组12/次肱三头肌:仰卧撑3/组12/次哑铃颈后屈臂3/组12/次腹部：仰卧起坐3/组20/次仰卧举腿3/组20/次星期', 'language': 'No language found.'}, page_content='25、20、20、25腹肌：负重斜板卷腹25、20、20、25拉力转体腹压缩25、20、20肘撑屈膝举腿25、20、20星期三背、肱二头肌、前臂内侧背部：负重引体向上'),\n",
       " Document(metadata={'source': 'http://www.plansum.cn/gerenjihua/73374.html', 'title': '健身房健身计划(精选5篇)', 'description': '胸部、肱三头肌、腹部胸部：杠铃卧推3/组12/次哑铃飞鸟3/组12/次俯卧撑3/组12/次肱三头肌:仰卧撑3/组12/次哑铃颈后屈臂3/组12/次腹部：仰卧起坐3/组20/次仰卧举腿3/组20/次星期', 'language': 'No language found.'}, page_content='8、6、6、8俯立划船：10、6、6、8胸前下拉：10、12、10单手哑铃划船：15、12、15肱二头肌：弯举 8、6、6、8单臂斜托弯举12、10、12'),\n",
       " Document(metadata={'source': 'http://www.plansum.cn/gerenjihua/73374.html', 'title': '健身房健身计划(精选5篇)', 'description': '胸部、肱三头肌、腹部胸部：杠铃卧推3/组12/次哑铃飞鸟3/组12/次俯卧撑3/组12/次肱三头肌:仰卧撑3/组12/次哑铃颈后屈臂3/组12/次腹部：仰卧起坐3/组20/次仰卧举腿3/组20/次星期', 'language': 'No language found.'}, page_content='拉力侧平举15、20、15前臂内侧：杠铃腕弯举15、12、15哑铃单手腕弯举15、20、15下背：屈膝硬拉8、68 负重伸背12、10、10、12星期五肩、肱三头肌、腹肌肩： 颈后推举：'),\n",
       " Document(metadata={'source': 'http://www.plansum.cn/gerenjihua/73374.html', 'title': '健身房健身计划(精选5篇)', 'description': '胸部、肱三头肌、腹部胸部：杠铃卧推3/组12/次哑铃飞鸟3/组12/次俯卧撑3/组12/次肱三头肌:仰卧撑3/组12/次哑铃颈后屈臂3/组12/次腹部：仰卧起坐3/组20/次仰卧举腿3/组20/次星期', 'language': 'No language found.'}, page_content='颈后推举： 8、6、8、8 前平举：12、10、10、12'),\n",
       " Document(metadata={'source': 'http://www.plansum.cn/gerenjihua/73374.html', 'title': '健身房健身计划(精选5篇)', 'description': '胸部、肱三头肌、腹部胸部：杠铃卧推3/组12/次哑铃飞鸟3/组12/次俯卧撑3/组12/次肱三头肌:仰卧撑3/组12/次哑铃颈后屈臂3/组12/次腹部：仰卧起坐3/组20/次仰卧举腿3/组20/次星期', 'language': 'No language found.'}, page_content='拉力侧平举：15、15、15提肘拉：10、8、8、10肱三头肌：双杠臂屈伸10、8、10头后臂屈伸：10、8、10拉力下压臂屈伸：15、12、12俯立单臂屈伸：15、20、20、15腹：坐姿屈膝收腹'),\n",
       " Document(metadata={'source': 'http://www.plansum.cn/gerenjihua/73374.html', 'title': '健身房健身计划(精选5篇)', 'description': '胸部、肱三头肌、腹部胸部：杠铃卧推3/组12/次哑铃飞鸟3/组12/次俯卧撑3/组12/次肱三头肌:仰卧撑3/组12/次哑铃颈后屈臂3/组12/次腹部：仰卧起坐3/组20/次仰卧举腿3/组20/次星期', 'language': 'No language found.'}, page_content='0、20、15腹：坐姿屈膝收腹：25、20、20下斜仰卧起坐：25、20、20星期六股四头肌、股二头肌、颈、小腿股四头肌：深蹲：8、6、6、8'),\n",
       " Document(metadata={'source': 'http://www.plansum.cn/gerenjihua/73374.html', 'title': '健身房健身计划(精选5篇)', 'description': '胸部、肱三头肌、腹部胸部：杠铃卧推3/组12/次哑铃飞鸟3/组12/次俯卧撑3/组12/次肱三头肌:仰卧撑3/组12/次哑铃颈后屈臂3/组12/次腹部：仰卧起坐3/组20/次仰卧举腿3/组20/次星期', 'language': 'No language found.'}, page_content='腿举：12、10、10腿屈伸：15、15、15 箭步蹲：15、10、10肩托斜深蹲：8、6、8股二头肌：'),\n",
       " Document(metadata={'source': 'http://www.plansum.cn/gerenjihua/73374.html', 'title': '健身房健身计划(精选5篇)', 'description': '胸部、肱三头肌、腹部胸部：杠铃卧推3/组12/次哑铃飞鸟3/组12/次俯卧撑3/组12/次肱三头肌:仰卧撑3/组12/次哑铃颈后屈臂3/组12/次腹部：仰卧起坐3/组20/次仰卧举腿3/组20/次星期', 'language': 'No language found.'}, page_content='坐姿下压腿弯举：15、12、10颈部：自扛颈侧屈：15、20、15俯仰卧屈伸：15、20、15小腿： 立式举踵：10、12、12、10单腿举踵：15、20、15健身房健身计划篇3练胸部平板杠铃卧推3'),\n",
       " Document(metadata={'source': 'http://www.plansum.cn/gerenjihua/73374.html', 'title': '健身房健身计划(精选5篇)', 'description': '胸部、肱三头肌、腹部胸部：杠铃卧推3/组12/次哑铃飞鸟3/组12/次俯卧撑3/组12/次肱三头肌:仰卧撑3/组12/次哑铃颈后屈臂3/组12/次腹部：仰卧起坐3/组20/次仰卧举腿3/组20/次星期', 'language': 'No language found.'}, page_content='组--10次 (训练整个胸)下斜板杠铃卧推3 组--10次 (训练胸部下沿肌肉)双杠臂屈伸(宽握)2 组--10次 (训练胸部下沿肌肉)上斜板哑铃推举(30度角)3 组--10次'),\n",
       " Document(metadata={'source': 'http://www.plansum.cn/gerenjihua/73374.html', 'title': '健身房健身计划(精选5篇)', 'description': '胸部、肱三头肌、腹部胸部：杠铃卧推3/组12/次哑铃飞鸟3/组12/次俯卧撑3/组12/次肱三头肌:仰卧撑3/组12/次哑铃颈后屈臂3/组12/次腹部：仰卧起坐3/组20/次仰卧举腿3/组20/次星期', 'language': 'No language found.'}, page_content='组--10次 (训练上胸部肌肉)平板哑铃飞鸟 3 组--10次 (训练胸肌中)器械夹胸 3 组--10次 (训练胸沟部)星期二背部引体向上 3 组--10次 (上背部)杠铃划船 3 组--10次'),\n",
       " Document(metadata={'source': 'http://www.plansum.cn/gerenjihua/73374.html', 'title': '健身房健身计划(精选5篇)', 'description': '胸部、肱三头肌、腹部胸部：杠铃卧推3/组12/次哑铃飞鸟3/组12/次俯卧撑3/组12/次肱三头肌:仰卧撑3/组12/次哑铃颈后屈臂3/组12/次腹部：仰卧起坐3/组20/次仰卧举腿3/组20/次星期', 'language': 'No language found.'}, page_content='3 组--10次 (下背部)窄握距下拉 3 组--10次 (上背部)坐姿划船 3 组--10次 (下背部)星期三肩部坐姿杠铃推举 3 组--10次 (整个肩部)坐姿哑铃推举 3 组--10次'),\n",
       " Document(metadata={'source': 'http://www.plansum.cn/gerenjihua/73374.html', 'title': '健身房健身计划(精选5篇)', 'description': '胸部、肱三头肌、腹部胸部：杠铃卧推3/组12/次哑铃飞鸟3/组12/次俯卧撑3/组12/次肱三头肌:仰卧撑3/组12/次哑铃颈后屈臂3/组12/次腹部：仰卧起坐3/组20/次仰卧举腿3/组20/次星期', 'language': 'No language found.'}, page_content='3 组--10次 (整个肩部)直立杠铃上拉 (窄握距) 3 组--10次 (三角肌前中束肌)哑铃侧平举 3 组--10次 (三角肌前中束肌)反向坐姿夹胸 3'),\n",
       " Document(metadata={'source': 'http://www.plansum.cn/gerenjihua/73374.html', 'title': '健身房健身计划(精选5篇)', 'description': '胸部、肱三头肌、腹部胸部：杠铃卧推3/组12/次哑铃飞鸟3/组12/次俯卧撑3/组12/次肱三头肌:仰卧撑3/组12/次哑铃颈后屈臂3/组12/次腹部：仰卧起坐3/组20/次仰卧举腿3/组20/次星期', 'language': 'No language found.'}, page_content='3 组--10次(三角肌后束肌)哑铃俯卧飞鸟3 组--10次 (三角肌后束肌)星期四肱三头肌窄握卧推4组--10次仰卧臂屈伸 3 组--10次 (肱三头肌)器械下压 3 组--10次'),\n",
       " Document(metadata={'source': 'http://www.plansum.cn/gerenjihua/73374.html', 'title': '健身房健身计划(精选5篇)', 'description': '胸部、肱三头肌、腹部胸部：杠铃卧推3/组12/次哑铃飞鸟3/组12/次俯卧撑3/组12/次肱三头肌:仰卧撑3/组12/次哑铃颈后屈臂3/组12/次腹部：仰卧起坐3/组20/次仰卧举腿3/组20/次星期', 'language': 'No language found.'}, page_content='3 组--10次 (肱三头肌)站立哑铃托举3 组--10次 (肱三头肌)星期五肱二头肌杠铃弯举 3 组--10次 (肱二头肌)哑铃弯举 3 组--10次托板弯举3 组--10次'),\n",
       " Document(metadata={'source': 'http://www.plansum.cn/gerenjihua/73374.html', 'title': '健身房健身计划(精选5篇)', 'description': '胸部、肱三头肌、腹部胸部：杠铃卧推3/组12/次哑铃飞鸟3/组12/次俯卧撑3/组12/次肱三头肌:仰卧撑3/组12/次哑铃颈后屈臂3/组12/次腹部：仰卧起坐3/组20/次仰卧举腿3/组20/次星期', 'language': 'No language found.'}, page_content='组--10次 (肱二头肌)星期六腿部杠铃深蹲 3 组--10次 (股四头肌)器械蹬腿 3 组--10次(股四头肌)腿屈伸 3 组--10次 (股四头肌)腿弯举 3 组--10次'),\n",
       " Document(metadata={'source': 'http://www.plansum.cn/gerenjihua/73374.html', 'title': '健身房健身计划(精选5篇)', 'description': '胸部、肱三头肌、腹部胸部：杠铃卧推3/组12/次哑铃飞鸟3/组12/次俯卧撑3/组12/次肱三头肌:仰卧撑3/组12/次哑铃颈后屈臂3/组12/次腹部：仰卧起坐3/组20/次仰卧举腿3/组20/次星期', 'language': 'No language found.'}, page_content='3 组--10次 (股二头肌)器械小腿提踵 3 组--20次'),\n",
       " Document(metadata={'source': 'http://www.plansum.cn/gerenjihua/73374.html', 'title': '健身房健身计划(精选5篇)', 'description': '胸部、肱三头肌、腹部胸部：杠铃卧推3/组12/次哑铃飞鸟3/组12/次俯卧撑3/组12/次肱三头肌:仰卧撑3/组12/次哑铃颈后屈臂3/组12/次腹部：仰卧起坐3/组20/次仰卧举腿3/组20/次星期', 'language': 'No language found.'}, page_content='(小腿肌肉)健身房健身计划篇4为贯彻实施《全民健身计划纲要》，促进群众性体育运动的深入开展，以弘扬奥运精神、增强员工体质、营造和谐氛围、促进企业发展为目标，宣扬体育文化，展示运动员形象，增加团队凝聚'),\n",
       " Document(metadata={'source': 'http://www.plansum.cn/gerenjihua/73374.html', 'title': '健身房健身计划(精选5篇)', 'description': '胸部、肱三头肌、腹部胸部：杠铃卧推3/组12/次哑铃飞鸟3/组12/次俯卧撑3/组12/次肱三头肌:仰卧撑3/组12/次哑铃颈后屈臂3/组12/次腹部：仰卧起坐3/组20/次仰卧举腿3/组20/次星期', 'language': 'No language found.'}, page_content='，展示运动员形象，增加团队凝聚力，丰富员工文化体育生活，按照工作安排，举办本次阳光体育趣味运动会。现将有关事宜安排如下：一、运动会主题我健身、我快乐;好体魄、好生活。二、活动时间、地点时间：地点：体育'),\n",
       " Document(metadata={'source': 'http://www.plansum.cn/gerenjihua/73374.html', 'title': '健身房健身计划(精选5篇)', 'description': '胸部、肱三头肌、腹部胸部：杠铃卧推3/组12/次哑铃飞鸟3/组12/次俯卧撑3/组12/次肱三头肌:仰卧撑3/组12/次哑铃颈后屈臂3/组12/次腹部：仰卧起坐3/组20/次仰卧举腿3/组20/次星期', 'language': 'No language found.'}, page_content='活动时间、地点时间：地点：体育广场三、大会组织机构主办单位：体育局承办单位：河南易动体育文化有限公司协办单位：体育器材经销商四、比赛项目设臵本次运动会项目设臵：财源滚滚，旱地龙舟，动感五环，毛毛虫竞速'),\n",
       " Document(metadata={'source': 'http://www.plansum.cn/gerenjihua/73374.html', 'title': '健身房健身计划(精选5篇)', 'description': '胸部、肱三头肌、腹部胸部：杠铃卧推3/组12/次哑铃飞鸟3/组12/次俯卧撑3/组12/次肱三头肌:仰卧撑3/组12/次哑铃颈后屈臂3/组12/次腹部：仰卧起坐3/组20/次仰卧举腿3/组20/次星期', 'language': 'No language found.'}, page_content='旱地龙舟，动感五环，毛毛虫竞速，环环相扣，碰碰球，快乐大脚，海贝接珠，袋鼠运瓜，脚踏实地，绑腿跑，协力竞走。五、报名方式1、参赛单位到大会组委会报名2、拨打热线电话0371-报名六、竞赛办法1、执行大'),\n",
       " Document(metadata={'source': 'http://www.plansum.cn/gerenjihua/73374.html', 'title': '健身房健身计划(精选5篇)', 'description': '胸部、肱三头肌、腹部胸部：杠铃卧推3/组12/次哑铃飞鸟3/组12/次俯卧撑3/组12/次肱三头肌:仰卧撑3/组12/次哑铃颈后屈臂3/组12/次腹部：仰卧起坐3/组20/次仰卧举腿3/组20/次星期', 'language': 'No language found.'}, page_content='1-报名六、竞赛办法1、执行大会制定的趣味运动项目相关规则(详见项目具体说明)。2、本次运动会个项目实行预决赛制，按照比赛成绩决定名次。七、活动奖项设臵1、各单项均取前8名(报名队数不足8队的减1录取'),\n",
       " Document(metadata={'source': 'http://www.plansum.cn/gerenjihua/73374.html', 'title': '健身房健身计划(精选5篇)', 'description': '胸部、肱三头肌、腹部胸部：杠铃卧推3/组12/次哑铃飞鸟3/组12/次俯卧撑3/组12/次肱三头肌:仰卧撑3/组12/次哑铃颈后屈臂3/组12/次腹部：仰卧起坐3/组20/次仰卧举腿3/组20/次星期', 'language': 'No language found.'}, page_content='名(报名队数不足8队的减1录取)，颁发相应奖品作为奖励。根据名次按9、7、6、5、4、3、2、1计算团队积分。2、依据团体总分取前8名颁发相应奖品作为奖励。(如遇团体总分相等的，按第1名多者名次列前，'),\n",
       " Document(metadata={'source': 'http://www.plansum.cn/gerenjihua/73374.html', 'title': '健身房健身计划(精选5篇)', 'description': '胸部、肱三头肌、腹部胸部：杠铃卧推3/组12/次哑铃飞鸟3/组12/次俯卧撑3/组12/次肱三头肌:仰卧撑3/组12/次哑铃颈后屈臂3/组12/次腹部：仰卧起坐3/组20/次仰卧举腿3/组20/次星期', 'language': 'No language found.'}, page_content='相等的，按第1名多者名次列前，依次类推)3、本次活动设臵体育道德风尚奖6名，颁发相应奖品作为奖励。八、活动流程1、前期准备(1)悬挂活动横幅(2)布臵现场(3)准备道具(4)组织签到2、中期安排(1)'),\n",
       " Document(metadata={'source': 'http://www.plansum.cn/gerenjihua/73374.html', 'title': '健身房健身计划(精选5篇)', 'description': '胸部、肱三头肌、腹部胸部：杠铃卧推3/组12/次哑铃飞鸟3/组12/次俯卧撑3/组12/次肱三头肌:仰卧撑3/组12/次哑铃颈后屈臂3/组12/次腹部：仰卧起坐3/组20/次仰卧举腿3/组20/次星期', 'language': 'No language found.'}, page_content='4)组织签到2、中期安排(1)运动会开幕式(2)各代表队入场仪式(3)领导致辞;(4)运动员代表宣誓(5)裁判员代表宣誓(6)领导宣布趣味运动会开始(7)各代表队退场(8)开幕式表演(9)各项目比赛开'),\n",
       " Document(metadata={'source': 'http://www.plansum.cn/gerenjihua/73374.html', 'title': '健身房健身计划(精选5篇)', 'description': '胸部、肱三头肌、腹部胸部：杠铃卧推3/组12/次哑铃飞鸟3/组12/次俯卧撑3/组12/次肱三头肌:仰卧撑3/组12/次哑铃颈后屈臂3/组12/次腹部：仰卧起坐3/组20/次仰卧举腿3/组20/次星期', 'language': 'No language found.'}, page_content=')开幕式表演(9)各项目比赛开始(10)领导公布比赛结果，为获奖团队或优秀运动员颁发奖品;(11)运动会闭幕。3、后期安排(1)各组成员拍照留念(2)工作人员清理现场(3)体育器材展览交流九、物品清单'),\n",
       " Document(metadata={'source': 'http://www.plansum.cn/gerenjihua/73374.html', 'title': '健身房健身计划(精选5篇)', 'description': '胸部、肱三头肌、腹部胸部：杠铃卧推3/组12/次哑铃飞鸟3/组12/次俯卧撑3/组12/次肱三头肌:仰卧撑3/组12/次哑铃颈后屈臂3/组12/次腹部：仰卧起坐3/组20/次仰卧举腿3/组20/次星期', 'language': 'No language found.'}, page_content=')体育器材展览交流九、物品清单及费用1、物品详情请参照附件1《活动物品清单》。2、费用分为物品费用、人员费用和项目管理费用，详情请参照附件2《费用清单》。十、趣味运动会项目具体说明1.财源滚滚参赛人数'),\n",
       " Document(metadata={'source': 'http://www.plansum.cn/gerenjihua/73374.html', 'title': '健身房健身计划(精选5篇)', 'description': '胸部、肱三头肌、腹部胸部：杠铃卧推3/组12/次哑铃飞鸟3/组12/次俯卧撑3/组12/次肱三头肌:仰卧撑3/组12/次哑铃颈后屈臂3/组12/次腹部：仰卧起坐3/组20/次仰卧举腿3/组20/次星期', 'language': 'No language found.'}, page_content='目具体说明1.财源滚滚参赛人数：每队4人(男女各2人)比赛方法：4名队员双脚分别站于比赛器材内侧，4名队员通过协调配合拨动比赛器材向前行进，赛程60米。计分：以各参赛队所用比赛器材通过终点线所在垂直平'),\n",
       " Document(metadata={'source': 'http://www.plansum.cn/gerenjihua/73374.html', 'title': '健身房健身计划(精选5篇)', 'description': '胸部、肱三头肌、腹部胸部：杠铃卧推3/组12/次哑铃飞鸟3/组12/次俯卧撑3/组12/次肱三头肌:仰卧撑3/组12/次哑铃颈后屈臂3/组12/次腹部：仰卧起坐3/组20/次仰卧举腿3/组20/次星期', 'language': 'No language found.'}, page_content='用比赛器材通过终点线所在垂直平面为计时停止，用时少者胜。2.旱地龙舟参赛人数：每队10人(男女各半)比赛方法：每组派10名队员。赛程60米。比赛规则：在比赛时人和器材不能分离，始终骑行与器材上，每人最'),\n",
       " Document(metadata={'source': 'http://www.plansum.cn/gerenjihua/73374.html', 'title': '健身房健身计划(精选5篇)', 'description': '胸部、肱三头肌、腹部胸部：杠铃卧推3/组12/次哑铃飞鸟3/组12/次俯卧撑3/组12/次肱三头肌:仰卧撑3/组12/次哑铃颈后屈臂3/组12/次腹部：仰卧起坐3/组20/次仰卧举腿3/组20/次星期', 'language': 'No language found.'}, page_content='分离，始终骑行与器材上，每人最少有一只手抓住绳带，否则处罚(加时间5秒)。裁判鸣哨后出发，提前出发者处罚，(加时间5秒)。计分：以各参赛队所用比赛器材通过终点线所在垂直平面为计时停止。用时少者胜。3.'),\n",
       " Document(metadata={'source': 'http://www.plansum.cn/gerenjihua/73374.html', 'title': '健身房健身计划(精选5篇)', 'description': '胸部、肱三头肌、腹部胸部：杠铃卧推3/组12/次哑铃飞鸟3/组12/次俯卧撑3/组12/次肱三头肌:仰卧撑3/组12/次哑铃颈后屈臂3/组12/次腹部：仰卧起坐3/组20/次仰卧举腿3/组20/次星期', 'language': 'No language found.'}, page_content='面为计时停止。用时少者胜。3.动感五环参赛人数：每队4人(男女各2人)比赛规则：2名队员立于比赛器材内，2名队员在外掌控方向，扶住比赛器材。裁判发令后，4名队员通过协调配合使比赛器材在规定跑道上行进，'),\n",
       " Document(metadata={'source': 'http://www.plansum.cn/gerenjihua/73374.html', 'title': '健身房健身计划(精选5篇)', 'description': '胸部、肱三头肌、腹部胸部：杠铃卧推3/组12/次哑铃飞鸟3/组12/次俯卧撑3/组12/次肱三头肌:仰卧撑3/组12/次哑铃颈后屈臂3/组12/次腹部：仰卧起坐3/组20/次仰卧举腿3/组20/次星期', 'language': 'No language found.'}, page_content='合使比赛器材在规定跑道上行进，赛程为60米。计分：以各参赛队所用比赛器材触及终点线所在垂直平面为计时停止，用时少者名次列前。4.毛毛虫竞速参赛人数：每队4人(男女各2人)比赛规则：比赛开始前,4名队员'),\n",
       " Document(metadata={'source': 'http://www.plansum.cn/gerenjihua/73374.html', 'title': '健身房健身计划(精选5篇)', 'description': '胸部、肱三头肌、腹部胸部：杠铃卧推3/组12/次哑铃飞鸟3/组12/次俯卧撑3/组12/次肱三头肌:仰卧撑3/组12/次哑铃颈后屈臂3/组12/次腹部：仰卧起坐3/组20/次仰卧举腿3/组20/次星期', 'language': 'No language found.'}, page_content='比赛规则：比赛开始前,4名队员骑在比赛器材上,双手抓住固定把手立于起跑线后。裁判员发令后，4名队员通过协调配合使比赛器材在规定跑道上行进，赛程60米。计分：以器材全部通过终点线垂直面为计时结束，用时少'),\n",
       " Document(metadata={'source': 'http://www.plansum.cn/gerenjihua/73374.html', 'title': '健身房健身计划(精选5篇)', 'description': '胸部、肱三头肌、腹部胸部：杠铃卧推3/组12/次哑铃飞鸟3/组12/次俯卧撑3/组12/次肱三头肌:仰卧撑3/组12/次哑铃颈后屈臂3/组12/次腹部：仰卧起坐3/组20/次仰卧举腿3/组20/次星期', 'language': 'No language found.'}, page_content='终点线垂直面为计时结束，用时少者名次列前。5.环环相扣参赛人数：每队5人(男3人女2人)比赛规则：比赛开始前，参赛队员分别系上腰带立于跑道两端的起跑线后。裁判发令后，1号队员首先出发，行进至终点并挂上'),\n",
       " Document(metadata={'source': 'http://www.plansum.cn/gerenjihua/73374.html', 'title': '健身房健身计划(精选5篇)', 'description': '胸部、肱三头肌、腹部胸部：杠铃卧推3/组12/次哑铃飞鸟3/组12/次俯卧撑3/组12/次肱三头肌:仰卧撑3/组12/次哑铃颈后屈臂3/组12/次腹部：仰卧起坐3/组20/次仰卧举腿3/组20/次星期', 'language': 'No language found.'}, page_content='队员首先出发，行进至终点并挂上2号队员的腰带，连接好后，两名队员共同起点行进与3号队员连接，连接好后共同向终点行进……依此类推。赛程为30米，计分：以各参赛队中的所有队员全部通过终点线所在垂直平面为计'),\n",
       " Document(metadata={'source': 'http://www.plansum.cn/gerenjihua/73374.html', 'title': '健身房健身计划(精选5篇)', 'description': '胸部、肱三头肌、腹部胸部：杠铃卧推3/组12/次哑铃飞鸟3/组12/次俯卧撑3/组12/次肱三头肌:仰卧撑3/组12/次哑铃颈后屈臂3/组12/次腹部：仰卧起坐3/组20/次仰卧举腿3/组20/次星期', 'language': 'No language found.'}, page_content='全部通过终点线所在垂直平面为计时停止，用时少者名次列前。6.碰碰球参赛人数：每队1人比赛规则：在固定的区域内，2人对抗，被推出界线者为输。计分：获胜者进入下一轮比赛。7.快乐大脚参赛人数：每队1人比赛'),\n",
       " Document(metadata={'source': 'http://www.plansum.cn/gerenjihua/73374.html', 'title': '健身房健身计划(精选5篇)', 'description': '胸部、肱三头肌、腹部胸部：杠铃卧推3/组12/次哑铃飞鸟3/组12/次俯卧撑3/组12/次肱三头肌:仰卧撑3/组12/次哑铃颈后屈臂3/组12/次腹部：仰卧起坐3/组20/次仰卧举腿3/组20/次星期', 'language': 'No language found.'}, page_content='快乐大脚参赛人数：每队1人比赛规则：比赛开始前，参赛队员脚穿巨鞋手提鞋带在起跑线后做好准备，裁判发令后，参赛队员带动巨鞋向前行进，赛程60米。计分：以巨鞋任意部位触及终点线所在的垂直平面为计时停止，用'),\n",
       " Document(metadata={'source': 'http://www.plansum.cn/gerenjihua/73374.html', 'title': '健身房健身计划(精选5篇)', 'description': '胸部、肱三头肌、腹部胸部：杠铃卧推3/组12/次哑铃飞鸟3/组12/次俯卧撑3/组12/次肱三头肌:仰卧撑3/组12/次哑铃颈后屈臂3/组12/次腹部：仰卧起坐3/组20/次仰卧举腿3/组20/次星期', 'language': 'No language found.'}, page_content='线所在的垂直平面为计时停止，用时少者名次列前。8.海贝接珠参赛人数：每队4人(男女各2人)比赛规则：防守方手持海贝站在比赛场地区，进攻方准备好珍珠站在限制线后。裁判员发令后，进攻队员开始手持珍珠丢向中'),\n",
       " Document(metadata={'source': 'http://www.plansum.cn/gerenjihua/73374.html', 'title': '健身房健身计划(精选5篇)', 'description': '胸部、肱三头肌、腹部胸部：杠铃卧推3/组12/次哑铃飞鸟3/组12/次俯卧撑3/组12/次肱三头肌:仰卧撑3/组12/次哑铃颈后屈臂3/组12/次腹部：仰卧起坐3/组20/次仰卧举腿3/组20/次星期', 'language': 'No language found.'}, page_content='后，进攻队员开始手持珍珠丢向中间防守。健身房健身计划篇5一、活动目的为进一步丰富校园文化生活，倡导时尚、健康的生活方式，展示我校师生积极向上的精神风貌，决定在全校师生中开展健身月比赛活动。二、组织机构'),\n",
       " Document(metadata={'source': 'http://www.plansum.cn/gerenjihua/73374.html', 'title': '健身房健身计划(精选5篇)', 'description': '胸部、肱三头肌、腹部胸部：杠铃卧推3/组12/次哑铃飞鸟3/组12/次俯卧撑3/组12/次肱三头肌:仰卧撑3/组12/次哑铃颈后屈臂3/组12/次腹部：仰卧起坐3/组20/次仰卧举腿3/组20/次星期', 'language': 'No language found.'}, page_content='展健身月比赛活动。二、组织机构组委员会：组长：刘武副组长：李锁根李怀思程凤翥委员：各班主任体育老师三、活动内容及参赛办法略四、奖项设置本次健身月比赛采用积分制，各项比赛得分按照第一名到第四名为5、3、'),\n",
       " Document(metadata={'source': 'http://www.plansum.cn/gerenjihua/73374.html', 'title': '健身房健身计划(精选5篇)', 'description': '胸部、肱三头肌、腹部胸部：杠铃卧推3/组12/次哑铃飞鸟3/组12/次俯卧撑3/组12/次肱三头肌:仰卧撑3/组12/次哑铃颈后屈臂3/组12/次腹部：仰卧起坐3/组20/次仰卧举腿3/组20/次星期', 'language': 'No language found.'}, page_content='分按照第一名到第四名为5、3、2、1，各单项得分相加，积分多者列前，积分相等并列。各年级按照积分多少排出名次，第一名和第二名给予奖励。五、比赛时间、地点比赛安排：时间项目地点12月4日广播操操场12月'),\n",
       " Document(metadata={'source': 'http://www.plansum.cn/gerenjihua/73374.html', 'title': '健身房健身计划(精选5篇)', 'description': '胸部、肱三头肌、腹部胸部：杠铃卧推3/组12/次哑铃飞鸟3/组12/次俯卧撑3/组12/次肱三头肌:仰卧撑3/组12/次哑铃颈后屈臂3/组12/次腹部：仰卧起坐3/组20/次仰卧举腿3/组20/次星期', 'language': 'No language found.'}, page_content='地点12月4日广播操操场12月11日跳绳彩砖广场12月18日拔河跑道12月25日踢毽子彩砖广场各项比赛详细见附件规程，如遇天气等因素比赛顺延。六、其它未尽事宜，另行通知。本活动方案解释权归嘶马小学冬季'),\n",
       " Document(metadata={'source': 'http://www.plansum.cn/gerenjihua/73374.html', 'title': '健身房健身计划(精选5篇)', 'description': '胸部、肱三头肌、腹部胸部：杠铃卧推3/组12/次哑铃飞鸟3/组12/次俯卧撑3/组12/次肱三头肌:仰卧撑3/组12/次哑铃颈后屈臂3/组12/次腹部：仰卧起坐3/组20/次仰卧举腿3/组20/次星期', 'language': 'No language found.'}, page_content='本活动方案解释权归嘶马小学冬季健身月组委会所有'),\n",
       " Document(metadata={'source': 'http://www.plansum.cn/gerenjihua/73374.html', 'title': '健身房健身计划(精选5篇)', 'description': '胸部、肱三头肌、腹部胸部：杠铃卧推3/组12/次哑铃飞鸟3/组12/次俯卧撑3/组12/次肱三头肌:仰卧撑3/组12/次哑铃颈后屈臂3/组12/次腹部：仰卧起坐3/组20/次仰卧举腿3/组20/次星期', 'language': 'No language found.'}, page_content='相关文章\\n\\n\\n\\n健身计划减肥\\n08-14\\n\\n\\n\\n健身房创业计划书\\n08-14\\n\\n\\n\\n健身减肥训练计划\\n08-14\\n\\n\\n\\n健身减肥运动计划\\n08-14'),\n",
       " Document(metadata={'source': 'http://www.plansum.cn/gerenjihua/73374.html', 'title': '健身房健身计划(精选5篇)', 'description': '胸部、肱三头肌、腹部胸部：杠铃卧推3/组12/次哑铃飞鸟3/组12/次俯卧撑3/组12/次肱三头肌:仰卧撑3/组12/次哑铃颈后屈臂3/组12/次腹部：仰卧起坐3/组20/次仰卧举腿3/组20/次星期', 'language': 'No language found.'}, page_content='半年健身工作计划\\n08-14\\n\\n\\n\\n健身减肥计划\\n08-14\\n\\n\\n\\n健身房减肥计划\\n08-14\\n\\n\\n\\n健身减肥计划\\n08-14\\n\\n\\n\\n教师个人的工作计划\\n08-14'),\n",
       " Document(metadata={'source': 'http://www.plansum.cn/gerenjihua/73374.html', 'title': '健身房健身计划(精选5篇)', 'description': '胸部、肱三头肌、腹部胸部：杠铃卧推3/组12/次哑铃飞鸟3/组12/次俯卧撑3/组12/次肱三头肌:仰卧撑3/组12/次哑铃颈后屈臂3/组12/次腹部：仰卧起坐3/组20/次仰卧举腿3/组20/次星期', 'language': 'No language found.'}, page_content='幼儿园教师个人工作计划\\n08-14\\n\\n\\n\\n\\n\\n\\n\\n\\n\\n热门文章'),\n",
       " Document(metadata={'source': 'http://www.plansum.cn/gerenjihua/73374.html', 'title': '健身房健身计划(精选5篇)', 'description': '胸部、肱三头肌、腹部胸部：杠铃卧推3/组12/次哑铃飞鸟3/组12/次俯卧撑3/组12/次肱三头肌:仰卧撑3/组12/次哑铃颈后屈臂3/组12/次腹部：仰卧起坐3/组20/次仰卧举腿3/组20/次星期', 'language': 'No language found.'}, page_content='热门文章\\n\\n健身房工作商业计划书\\n健身房创业计划书\\n健身房商业工作计划\\n健身房创业计划书\\n健身房减肥计划\\n减肥健身计划\\n于健身工作计划\\n健身房工作商业计划书\\n\\n\\n\\n\\n最新文章'),\n",
       " Document(metadata={'source': 'http://www.plansum.cn/gerenjihua/73374.html', 'title': '健身房健身计划(精选5篇)', 'description': '胸部、肱三头肌、腹部胸部：杠铃卧推3/组12/次哑铃飞鸟3/组12/次俯卧撑3/组12/次肱三头肌:仰卧撑3/组12/次哑铃颈后屈臂3/组12/次腹部：仰卧起坐3/组20/次仰卧举腿3/组20/次星期', 'language': 'No language found.'}, page_content='最新文章\\n\\n学校新学期个人计划\\n幼儿园新学期研修计划\\n销售下半年工作计划\\n实习生个人工作计划\\n大二学年工作计划\\n\\n\\n\\n\\n\\n\\n\\n\\n\\n\\n\\n\\n关于我们\\n联系我们\\n版权申明\\n举报投诉'),\n",
       " Document(metadata={'source': 'http://www.plansum.cn/gerenjihua/73374.html', 'title': '健身房健身计划(精选5篇)', 'description': '胸部、肱三头肌、腹部胸部：杠铃卧推3/组12/次哑铃飞鸟3/组12/次俯卧撑3/组12/次肱三头肌:仰卧撑3/组12/次哑铃颈后屈臂3/组12/次腹部：仰卧起坐3/组20/次仰卧举腿3/组20/次星期', 'language': 'No language found.'}, page_content='73374')]"
      ]
     },
     "execution_count": 18,
     "metadata": {},
     "output_type": "execute_result"
    }
   ],
   "source": [
    "splits"
   ]
  },
  {
   "cell_type": "code",
   "execution_count": 19,
   "id": "cf1fc930",
   "metadata": {},
   "outputs": [
    {
     "data": {
      "text/plain": [
       "HuggingFaceEmbeddings(client=SentenceTransformer(\n",
       "  (0): Transformer({'max_seq_length': 256, 'do_lower_case': False, 'architecture': 'BertModel'})\n",
       "  (1): Pooling({'word_embedding_dimension': 384, 'pooling_mode_cls_token': False, 'pooling_mode_mean_tokens': True, 'pooling_mode_max_tokens': False, 'pooling_mode_mean_sqrt_len_tokens': False, 'pooling_mode_weightedmean_tokens': False, 'pooling_mode_lasttoken': False, 'include_prompt': True})\n",
       "  (2): Normalize()\n",
       "), model_name='all-MiniLM-L6-v2', cache_folder=None, model_kwargs={}, encode_kwargs={}, multi_process=False, show_progress=False)"
      ]
     },
     "execution_count": 19,
     "metadata": {},
     "output_type": "execute_result"
    }
   ],
   "source": [
    "embeddings"
   ]
  },
  {
   "cell_type": "markdown",
   "id": "2d894f2b",
   "metadata": {},
   "source": [
    "# Step 3: Vector Store\n",
    "Alternatively, we could use a cloud-based vector database."
   ]
  },
  {
   "cell_type": "code",
   "execution_count": 4,
   "id": "a2b4ae7b",
   "metadata": {},
   "outputs": [],
   "source": [
    "vectorstore_in_memory = FAISS.from_documents(splits, embeddings)"
   ]
  },
  {
   "cell_type": "markdown",
   "id": "fd7185aa",
   "metadata": {},
   "source": [
    "# Step 4: Retrieval"
   ]
  },
  {
   "cell_type": "code",
   "execution_count": 9,
   "id": "3ad0f198",
   "metadata": {},
   "outputs": [],
   "source": [
    "query = \"如何使用哑铃进行健身？\"\n",
    "top_k = 4\n",
    "retrieved_docs = vectorstore_in_memory.similarity_search(query, k=top_k)\n",
    "\n",
    "# Combine context\n",
    "context = \"\\n\\n\".join(doc.page_content for doc in retrieved_docs)"
   ]
  },
  {
   "cell_type": "code",
   "execution_count": 10,
   "id": "ffc3a40b",
   "metadata": {},
   "outputs": [
    {
     "data": {
      "text/plain": [
       "[Document(id='ce8483e1-b7a3-4c67-9fbc-595a8702029d', metadata={'source': 'http://www.plansum.cn/gerenjihua/73374.html', 'title': '健身房健身计划(精选5篇)', 'description': '胸部、肱三头肌、腹部胸部：杠铃卧推3/组12/次哑铃飞鸟3/组12/次俯卧撑3/组12/次肱三头肌:仰卧撑3/组12/次哑铃颈后屈臂3/组12/次腹部：仰卧起坐3/组20/次仰卧举腿3/组20/次星期', 'language': 'No language found.'}, page_content='健身房健身计划(精选5篇)\\n\\n\\n\\n\\n\\n\\n\\n\\n\\n\\n\\n\\n\\n\\n\\n\\n\\n\\n个人计划年度计划月度计划明年计划班主任计划班级计划其他计划商业计划'),\n",
       " Document(id='b589fe43-f663-42e2-812f-7b053c241f49', metadata={'source': 'http://www.plansum.cn/gerenjihua/73374.html', 'title': '健身房健身计划(精选5篇)', 'description': '胸部、肱三头肌、腹部胸部：杠铃卧推3/组12/次哑铃飞鸟3/组12/次俯卧撑3/组12/次肱三头肌:仰卧撑3/组12/次哑铃颈后屈臂3/组12/次腹部：仰卧起坐3/组20/次仰卧举腿3/组20/次星期', 'language': 'No language found.'}, page_content='计划总结网 > 工作计划 > 个人计划 >\\n\\n\\n\\n\\n健身房健身计划\\n\\n时间：2024-08-14 15:53:13\\n小龙\\n个人计划'),\n",
       " Document(id='6f3ced65-da4f-4f3e-9a27-722eb3244485', metadata={'source': 'http://www.plansum.cn/gerenjihua/73374.html', 'title': '健身房健身计划(精选5篇)', 'description': '胸部、肱三头肌、腹部胸部：杠铃卧推3/组12/次哑铃飞鸟3/组12/次俯卧撑3/组12/次肱三头肌:仰卧撑3/组12/次哑铃颈后屈臂3/组12/次腹部：仰卧起坐3/组20/次仰卧举腿3/组20/次星期', 'language': 'No language found.'}, page_content='(小腿肌肉)健身房健身计划篇4为贯彻实施《全民健身计划纲要》，促进群众性体育运动的深入开展，以弘扬奥运精神、增强员工体质、营造和谐氛围、促进企业发展为目标，宣扬体育文化，展示运动员形象，增加团队凝聚'),\n",
       " Document(id='3881b9cd-99b8-47db-a8c5-2d1ce17a1e79', metadata={'source': 'http://www.plansum.cn/gerenjihua/73374.html', 'title': '健身房健身计划(精选5篇)', 'description': '胸部、肱三头肌、腹部胸部：杠铃卧推3/组12/次哑铃飞鸟3/组12/次俯卧撑3/组12/次肱三头肌:仰卧撑3/组12/次哑铃颈后屈臂3/组12/次腹部：仰卧起坐3/组20/次仰卧举腿3/组20/次星期', 'language': 'No language found.'}, page_content='队员首先出发，行进至终点并挂上2号队员的腰带，连接好后，两名队员共同起点行进与3号队员连接，连接好后共同向终点行进……依此类推。赛程为30米，计分：以各参赛队中的所有队员全部通过终点线所在垂直平面为计')]"
      ]
     },
     "execution_count": 10,
     "metadata": {},
     "output_type": "execute_result"
    }
   ],
   "source": [
    "retrieved_docs"
   ]
  },
  {
   "cell_type": "code",
   "execution_count": 7,
   "id": "5943c7c1",
   "metadata": {},
   "outputs": [
    {
     "data": {
      "text/plain": [
       "'杠铃反弯举 12、10、10、12哑铃腕屈伸\\n\\n颈后推举： 8、6、8、8 前平举：12、10、10、12\\n\\n拉力侧平举15、20、15前臂内侧：杠铃腕弯举15、12、15哑铃单手腕弯举15、20、15下背：屈膝硬拉8、68 负重伸背12、10、10、12星期五肩、肱三头肌、腹肌肩： 颈后推举：\\n\\n拉力侧平举：15、15、15提肘拉：10、8、8、10肱三头肌：双杠臂屈伸10、8、10头后臂屈伸：10、8、10拉力下压臂屈伸：15、12、12俯立单臂屈伸：15、20、20、15腹：坐姿屈膝收腹'"
      ]
     },
     "execution_count": 7,
     "metadata": {},
     "output_type": "execute_result"
    }
   ],
   "source": [
    "context"
   ]
  },
  {
   "cell_type": "markdown",
   "id": "9cd8af75",
   "metadata": {},
   "source": [
    "# Step 5: Generate"
   ]
  },
  {
   "cell_type": "code",
   "execution_count": 11,
   "id": "ac1ff3d1",
   "metadata": {},
   "outputs": [
    {
     "name": "stdout",
     "output_type": "stream",
     "text": [
      "\n",
      " DeepSeek Answer:\n",
      " 使用哑铃进行健身是一种非常有效的方式，可以增强肌肉力量、改善体型并提升整体健康水平。以下是一些基本的哑铃健身方法和建议：\n",
      "\n",
      "### 1. **选择合适的重量**\n",
      "   - 初学者应从较轻的重量开始，逐渐增加重量以避免受伤。\n",
      "   - 选择合适的重量，使得在完成一组动作（通常8-12次）时感到有些吃力，但仍能保持正确的姿势。\n",
      "\n",
      "### 2. **基本哑铃动作**\n",
      "   - **哑铃深蹲**：双手持哑铃放在身体两侧或肩部，进行深蹲动作，锻炼腿部肌肉。\n",
      "   - **哑铃卧推**：躺在平板凳上，双手持哑铃向上推举，锻炼胸肌和手臂。\n",
      "   - **哑铃划船**：弯腰，双手持哑铃向上拉，锻炼背部肌肉。\n",
      "   - **哑铃肩推**：双手持哑铃，从肩部向上推举，锻炼肩部肌肉。\n",
      "   - **哑铃弯举**：双手持哑铃，弯曲肘部将哑铃举向肩部，锻炼肱二头肌。\n",
      "\n",
      "### 3. **注意事项**\n",
      "   - **保持正确的姿势**：错误的姿势可能导致受伤，建议在开始前学习正确的动作或请教专业教练。\n",
      "   - **控制动作速度**：避免快速甩动哑铃，应缓慢控制动作，确保肌肉充分参与。\n",
      "   - **呼吸控制**：用力时呼气，放松时吸气，保持呼吸顺畅。\n",
      "   - **热身和拉伸**：在训练前进行5-10分钟的热身，训练后进行拉伸，以减少受伤风险并促进恢复。\n",
      "\n",
      "### 4. **训练计划**\n",
      "   - 每周进行2-3次哑铃训练，每次训练选择4-6个动作，每个动作做3-4组，每组8-12次。\n",
      "   - 根据个人目标（增肌、减脂或增强耐力）调整重量和次数。\n",
      "\n",
      "### 5. **安全提示**\n",
      "   - 训练时确保周围有足够的空间，避免碰撞。\n",
      "   - 如果感到任何不适或疼痛，应立即停止训练并咨询医生或专业教练。\n",
      "\n",
      "通过坚持科学的哑铃训练计划，你可以有效提升肌肉力量和体能水平。\n"
     ]
    }
   ],
   "source": [
    "# Get answer from DeepSeek\n",
    "answer = call_deepseek(query, context)\n",
    "print(\"\\n DeepSeek Answer:\\n\", answer)"
   ]
  }
 ],
 "metadata": {
  "kernelspec": {
   "display_name": "Python 3",
   "language": "python",
   "name": "python3"
  },
  "language_info": {
   "codemirror_mode": {
    "name": "ipython",
    "version": 3
   },
   "file_extension": ".py",
   "mimetype": "text/x-python",
   "name": "python",
   "nbconvert_exporter": "python",
   "pygments_lexer": "ipython3",
   "version": "3.11.12"
  }
 },
 "nbformat": 4,
 "nbformat_minor": 5
}
