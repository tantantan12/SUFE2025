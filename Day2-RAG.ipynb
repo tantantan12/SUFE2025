{
 "cells": [
  {
   "cell_type": "code",
   "execution_count": 7,
   "id": "86cf4c9a",
   "metadata": {},
   "outputs": [],
   "source": [
    "import bs4\n",
    "from langchain_community.document_loaders import WebBaseLoader\n",
    "from langchain_text_splitters import RecursiveCharacterTextSplitter\n",
    "from langchain_community.vectorstores import FAISS\n",
    "from langchain.embeddings import HuggingFaceEmbeddings\n",
    "from langchain_core.documents import Document\n",
    "from langgraph.graph import StateGraph, START\n",
    "from typing_extensions import TypedDict, List\n",
    "from langchain_community.vectorstores import SupabaseVectorStore\n",
    "from langchain_community.document_loaders import WebBaseLoader\n",
    "from langchain_text_splitters import RecursiveCharacterTextSplitter\n",
    "from langchain.embeddings import HuggingFaceEmbeddings\n",
    "from supabase.client import create_client"
   ]
  },
  {
   "cell_type": "markdown",
   "id": "34e829aa",
   "metadata": {},
   "source": [
    "## Step 1: Create a function for Deepseek Call"
   ]
  },
  {
   "cell_type": "code",
   "execution_count": 8,
   "id": "573dcf95",
   "metadata": {},
   "outputs": [],
   "source": [
    "import requests\n",
    "import os\n",
    "DEEPSEEK_API_KEY = os.getenv(\"DEEPSEEK_API_KEY\")\n",
    "DEEPSEEK_URL = \"https://api.deepseek.com/v1/chat/completions\"\n",
    "\n",
    "def call_deepseek(question, context):\n",
    "    headers = {\n",
    "        \"Authorization\": f\"Bearer {DEEPSEEK_API_KEY}\",\n",
    "        \"Content-Type\": \"application/json\"\n",
    "    }\n",
    "    messages = [\n",
    "        {\"role\": \"system\", \"content\": \"You are a helpful assistant.\"},\n",
    "        {\"role\": \"user\", \"content\": f\"Answer the question based on the context below:\\n\\nContext:\\n{context}\\n\\nQuestion:\\n{question}\"}\n",
    "    ]\n",
    "    payload = {\n",
    "        \"model\": \"deepseek-chat\",\n",
    "        \"messages\": messages,\n",
    "        \"temperature\": 0.7,\n",
    "        \"max_tokens\": 512\n",
    "    }\n",
    "\n",
    "    response = requests.post(DEEPSEEK_URL, headers=headers, json=payload)\n",
    "    response.raise_for_status()\n",
    "    return response.json()[\"choices\"][0][\"message\"][\"content\"]\n"
   ]
  },
  {
   "cell_type": "code",
   "execution_count": 11,
   "id": "2b12707f",
   "metadata": {},
   "outputs": [
    {
     "name": "stderr",
     "output_type": "stream",
     "text": [
      "/home/vscode/.local/lib/python3.11/site-packages/tqdm/auto.py:21: TqdmWarning: IProgress not found. Please update jupyter and ipywidgets. See https://ipywidgets.readthedocs.io/en/stable/user_install.html\n",
      "  from .autonotebook import tqdm as notebook_tqdm\n"
     ]
    }
   ],
   "source": [
    "url=\"https://www.healthline.com/health/bodyweight-workout\"\n",
    "\n",
    "loader = WebBaseLoader([url])\n",
    "docs = loader.load()\n",
    "splitter = RecursiveCharacterTextSplitter()\n",
    "splits = splitter.split_documents(docs)\n",
    " \n",
    "embeddings = HuggingFaceEmbeddings(model_name=\"all-MiniLM-L6-v2\")"
   ]
  },
  {
   "cell_type": "code",
   "execution_count": 13,
   "id": "a2b4ae7b",
   "metadata": {},
   "outputs": [],
   "source": [
    "vectorstore_in_memory = FAISS.from_documents(splits, embeddings)"
   ]
  },
  {
   "cell_type": "code",
   "execution_count": 14,
   "id": "3ad0f198",
   "metadata": {},
   "outputs": [
    {
     "name": "stdout",
     "output_type": "stream",
     "text": [
      "\n",
      " DeepSeek Answer:\n",
      " Here’s an **upper body-focused bodyweight workout program** designed to build strength and muscle. This routine is suitable for **intermediate to advanced** fitness levels but can be modified for beginners.\n",
      "\n",
      "---\n",
      "\n",
      "### **Upper Body Bodyweight Circuit**  \n",
      "**Instructions:**  \n",
      "- Perform each exercise for **45–60 seconds** (or 8–15 reps per side where applicable).  \n",
      "- Rest **30–60 seconds** between exercises.  \n",
      "- Complete **2–3 rounds** of the circuit.  \n",
      "\n",
      "#### **1. Pushup Variations**  \n",
      "   - *Standard Pushups*: Keep core tight, lower chest to floor.  \n",
      "   - *Wide-Grip Pushups*: Hands wider than shoulders to target chest.  \n",
      "   - *Diamond Pushups*: Hands close (thumbs/index fingers touching) for triceps.  \n",
      "\n",
      "#### **2. Pike Pushups** (Shoulders)  \n",
      "   - Start in a downward dog position (hips high), bend elbows to lower head toward floor, then push back up.  \n",
      "\n",
      "#### **3. Triceps Dips**  \n",
      "   - Use a bench or chair: Hands on edge, legs extended, lower hips by bending elbows to 90 degrees.  \n",
      "\n",
      "#### **4. Bodyweight Rows (Inverted Rows)**  \n",
      "   - Use a sturdy table or bar: Lie underneath, pull chest up to the bar, squeezing shoulder blades.  \n",
      "\n",
      "#### **5. Superman Hold (Upper Back)**  \n",
      "   - Lie face down, lift arms/legs off ground, hold for 5–10 seconds per rep.  \n",
      "\n",
      "#### **6. Plank to Downward Dog**  \n",
      "   - From plank, push hips up into downward dog, then return. Engages shoulders/core.  \n",
      "\n",
      "#### **7. Arm Circles** (Burnout)  \n",
      "   - Extend arms straight out, make small circles (30 sec forward/30 sec backward).  \n",
      "\n",
      "---\n",
      "\n",
      "### **Modifications:**  \n",
      "- **Beginners**: Reduce time/reps, use knee pushups, or shorten rest periods.  \n",
      "- **Advanced**: Add resistance bands, slow tempos, or single-arm progressions.  \n",
      "\n",
      "### **Frequency:**  \n",
      "- Aim for **2–3 sessions per week** with rest days in between.  \n",
      "\n",
      "For **visual guides**, check the linked Pinterest images in the original context (e.g., plank variations, pushup forms). Let me know if you'd like a **beginner-friendly version** or more focus on specific areas (e.g., arms vs.\n"
     ]
    }
   ],
   "source": [
    "query = \"upper body program\"\n",
    "top_k = 4\n",
    "retrieved_docs = vectorstore_in_memory.similarity_search(query, k=top_k)\n",
    "\n",
    "# Combine context\n",
    "context = \"\\n\\n\".join(doc.page_content for doc in retrieved_docs)\n",
    "\n",
    "# Get answer from DeepSeek\n",
    "answer = call_deepseek(query, context)\n",
    "print(\"\\n DeepSeek Answer:\\n\", answer)"
   ]
  }
 ],
 "metadata": {
  "kernelspec": {
   "display_name": "Python 3",
   "language": "python",
   "name": "python3"
  },
  "language_info": {
   "codemirror_mode": {
    "name": "ipython",
    "version": 3
   },
   "file_extension": ".py",
   "mimetype": "text/x-python",
   "name": "python",
   "nbconvert_exporter": "python",
   "pygments_lexer": "ipython3",
   "version": "3.11.12"
  }
 },
 "nbformat": 4,
 "nbformat_minor": 5
}
