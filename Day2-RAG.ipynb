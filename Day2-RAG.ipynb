{
 "cells": [
  {
   "cell_type": "code",
   "execution_count": 1,
   "id": "86cf4c9a",
   "metadata": {},
   "outputs": [
    {
     "name": "stderr",
     "output_type": "stream",
     "text": [
      "USER_AGENT environment variable not set, consider setting it to identify your requests.\n"
     ]
    }
   ],
   "source": [
    "import bs4\n",
    "from langchain_community.document_loaders import WebBaseLoader\n",
    "from langchain_text_splitters import RecursiveCharacterTextSplitter\n",
    "from langchain_community.vectorstores import FAISS\n",
    "from langchain.embeddings import HuggingFaceEmbeddings\n",
    "from langchain_core.documents import Document\n",
    "from langgraph.graph import StateGraph, START\n",
    "from typing_extensions import TypedDict, List\n",
    "from langchain_community.vectorstores import SupabaseVectorStore\n",
    "from langchain_community.document_loaders import WebBaseLoader\n",
    "from langchain_text_splitters import RecursiveCharacterTextSplitter\n",
    "from langchain.embeddings import HuggingFaceEmbeddings\n",
    "from supabase.client import create_client"
   ]
  },
  {
   "cell_type": "markdown",
   "id": "34e829aa",
   "metadata": {},
   "source": [
    "## Step 1: Create a function for Deepseek Call"
   ]
  },
  {
   "cell_type": "code",
   "execution_count": 2,
   "id": "573dcf95",
   "metadata": {},
   "outputs": [],
   "source": [
    "import requests\n",
    "import os\n",
    "DEEPSEEK_API_KEY = os.getenv(\"DEEPSEEK_API_KEY\")\n",
    "DEEPSEEK_URL = \"https://api.deepseek.com/v1/chat/completions\"\n",
    "\n",
    "def call_deepseek(question, context):\n",
    "    headers = {\n",
    "        \"Authorization\": f\"Bearer {DEEPSEEK_API_KEY}\",\n",
    "        \"Content-Type\": \"application/json\"\n",
    "    }\n",
    "    messages = [\n",
    "        {\"role\": \"system\", \"content\": \"You are a helpful assistant.\"},\n",
    "        {\"role\": \"user\", \"content\": f\"Answer the question based on the context below:\\n\\nContext:\\n{context}\\n\\nQuestion:\\n{question}\"}\n",
    "    ]\n",
    "    payload = {\n",
    "        \"model\": \"deepseek-chat\",\n",
    "        \"messages\": messages,\n",
    "        \"temperature\": 0.7,\n",
    "        \"max_tokens\": 512\n",
    "    }\n",
    "\n",
    "    response = requests.post(DEEPSEEK_URL, headers=headers, json=payload)\n",
    "    response.raise_for_status()\n",
    "    return response.json()[\"choices\"][0][\"message\"][\"content\"]\n"
   ]
  },
  {
   "cell_type": "markdown",
   "id": "b6d5d38e",
   "metadata": {},
   "source": [
    "# Step 2: Load documents, Split, and Index."
   ]
  },
  {
   "cell_type": "code",
   "execution_count": 3,
   "id": "2b12707f",
   "metadata": {},
   "outputs": [
    {
     "name": "stderr",
     "output_type": "stream",
     "text": [
      "/tmp/ipykernel_18853/986501637.py:8: LangChainDeprecationWarning: The class `HuggingFaceEmbeddings` was deprecated in LangChain 0.2.2 and will be removed in 1.0. An updated version of the class exists in the :class:`~langchain-huggingface package and should be used instead. To use it run `pip install -U :class:`~langchain-huggingface` and import as `from :class:`~langchain_huggingface import HuggingFaceEmbeddings``.\n",
      "  embeddings = HuggingFaceEmbeddings(model_name=\"all-MiniLM-L6-v2\")\n",
      "/home/vscode/.local/lib/python3.11/site-packages/tqdm/auto.py:21: TqdmWarning: IProgress not found. Please update jupyter and ipywidgets. See https://ipywidgets.readthedocs.io/en/stable/user_install.html\n",
      "  from .autonotebook import tqdm as notebook_tqdm\n"
     ]
    }
   ],
   "source": [
    "url=\"https://www.healthline.com/health/bodyweight-workout\"\n",
    "\n",
    "loader = WebBaseLoader([url])\n",
    "docs = loader.load()\n",
    "splitter = RecursiveCharacterTextSplitter()\n",
    "splits = splitter.split_documents(docs)\n",
    " \n",
    "embeddings = HuggingFaceEmbeddings(model_name=\"all-MiniLM-L6-v2\")"
   ]
  },
  {
   "cell_type": "markdown",
   "id": "2d894f2b",
   "metadata": {},
   "source": [
    "# Step 3: Vector Store\n",
    "Alternatively, we could use a cloud-based vector database."
   ]
  },
  {
   "cell_type": "code",
   "execution_count": 4,
   "id": "a2b4ae7b",
   "metadata": {},
   "outputs": [],
   "source": [
    "vectorstore_in_memory = FAISS.from_documents(splits, embeddings)"
   ]
  },
  {
   "cell_type": "markdown",
   "id": "fd7185aa",
   "metadata": {},
   "source": [
    "# Step 4: Retrieval"
   ]
  },
  {
   "cell_type": "code",
   "execution_count": 6,
   "id": "3ad0f198",
   "metadata": {},
   "outputs": [],
   "source": [
    "query = \"upper body program\"\n",
    "top_k = 4\n",
    "retrieved_docs = vectorstore_in_memory.similarity_search(query, k=top_k)\n",
    "\n",
    "# Combine context\n",
    "context = \"\\n\\n\".join(doc.page_content for doc in retrieved_docs)"
   ]
  },
  {
   "cell_type": "markdown",
   "id": "9cd8af75",
   "metadata": {},
   "source": [
    "# Step 5: Generate"
   ]
  },
  {
   "cell_type": "code",
   "execution_count": 7,
   "id": "ac1ff3d1",
   "metadata": {},
   "outputs": [
    {
     "name": "stdout",
     "output_type": "stream",
     "text": [
      "\n",
      " DeepSeek Answer:\n",
      " Here’s an **upper body-focused bodyweight workout program** designed to build strength and muscle. This routine is suitable for **intermediate to advanced** fitness levels but can be modified for beginners.  \n",
      "\n",
      "---\n",
      "\n",
      "### **Upper Body Bodyweight Circuit**  \n",
      "**Instructions:**  \n",
      "- Perform each exercise for **45–60 seconds** (or 8–15 reps).  \n",
      "- Rest **30–60 seconds** between exercises.  \n",
      "- Complete **2–3 rounds** of the circuit.  \n",
      "- Do this routine **2–3 times per week** with rest days in between.  \n",
      "\n",
      "#### **1. Pushup Variations**  \n",
      "- **Standard Pushups**: Hands shoulder-width apart, core engaged.  \n",
      "- **Wide-Grip Pushups**: Hands wider than shoulders to target the chest.  \n",
      "- **Diamond Pushups**: Hands close together (thumbs/index fingers touching) to emphasize triceps.  \n",
      "\n",
      "#### **2. Pike Pushups**  \n",
      "- Start in a Downward Dog position (hips high, hands on the floor).  \n",
      "- Lower your head toward the ground by bending your elbows, then push back up.  \n",
      "- *Targets shoulders and triceps.*  \n",
      "\n",
      "#### **3. Bodyweight Rows (If Possible)**  \n",
      "- Use a sturdy table, low bar, or TRX straps.  \n",
      "- Lean back, pull chest toward hands, squeezing shoulder blades.  \n",
      "- *Modify difficulty by adjusting body angle.*  \n",
      "\n",
      "#### **4. Plank to Shoulder Tap**  \n",
      "- In a high plank, tap left hand to right shoulder, then right hand to left shoulder.  \n",
      "- Keep hips stable to engage core and shoulders.  \n",
      "\n",
      "#### **5. Triceps Dips**  \n",
      "- Use a bench, chair, or low surface.  \n",
      "- Lower hips by bending elbows (keep them close to your body), then push up.  \n",
      "\n",
      "#### **6. Superman Hold**  \n",
      "- Lie on your stomach, lift arms and legs off the ground, hold for 5–10 seconds.  \n",
      "- *Strengthens upper back and rear shoulders.*  \n",
      "\n",
      "#### **7. Wall Handstand Hold (Optional)**  \n",
      "- Kick up into a handstand against a wall, hold for 10–30 seconds.  \n",
      "- *Modification:* Do a \"bear crawl\" hold (hands and feet on ground, hips high).  \n",
      "\n",
      "---\n",
      "\n",
      "### **Cool-Down & Flexibility**  \n",
      "- **Child’s Pose**: Stretch arms forward to release shoulders.  \n",
      "- **Doorway Stretch**: Open chest\n"
     ]
    }
   ],
   "source": [
    "# Get answer from DeepSeek\n",
    "answer = call_deepseek(query, context)\n",
    "print(\"\\n DeepSeek Answer:\\n\", answer)"
   ]
  }
 ],
 "metadata": {
  "kernelspec": {
   "display_name": "Python 3",
   "language": "python",
   "name": "python3"
  },
  "language_info": {
   "codemirror_mode": {
    "name": "ipython",
    "version": 3
   },
   "file_extension": ".py",
   "mimetype": "text/x-python",
   "name": "python",
   "nbconvert_exporter": "python",
   "pygments_lexer": "ipython3",
   "version": "3.11.12"
  }
 },
 "nbformat": 4,
 "nbformat_minor": 5
}
