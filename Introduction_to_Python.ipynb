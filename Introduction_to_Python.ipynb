{
 "cells": [
  {
   "cell_type": "markdown",
   "id": "04184bdc",
   "metadata": {},
   "source": [
    "# Hello"
   ]
  },
  {
   "cell_type": "code",
   "execution_count": 1,
   "id": "cb85021d",
   "metadata": {},
   "outputs": [
    {
     "name": "stdout",
     "output_type": "stream",
     "text": [
      "hello\n"
     ]
    }
   ],
   "source": [
    "print(\"hello\")"
   ]
  },
  {
   "cell_type": "markdown",
   "id": "cbd01110",
   "metadata": {},
   "source": [
    "## 1. Introduction to Python \n",
    "Python is a great tool for natural language processing. We will spend the first 50 minutes of the class to cover the basics of Python.\n",
    "### 1.1 Introduction to Python\n",
    "Python was created in 1990 by Guido van Rossu as a general-purpose and high-level programming language. It has become extremely popular over the past decade because of its intuitive nature, flexibility, and versatility. According to the Developer Nation's recent 30,000 developer survey, Python is among the top three programming language choices of 2023. Python was rated the most popular in data science, machine learning, and artificial intelligence. I hope that this class can show you the charm of Python and motivate you to continue the learning of this great programming language and its associated libraries for data science and machine learning.\n",
    "#### 1.1.2 Hello World! \n",
    "- Run the \"hello world\" program\n",
    "- Adding comments to your code\n",
    "- Identify an error and fix it\n",
    "\n",
    "<code>print() </code>is a function that takes the istring <code>\"Hello, world!\"</code> as an argument.\n"
   ]
  },
  {
   "cell_type": "code",
   "execution_count": 1,
   "id": "e4b728d1",
   "metadata": {},
   "outputs": [
    {
     "name": "stdout",
     "output_type": "stream",
     "text": [
      "Hello, world!\n"
     ]
    }
   ],
   "source": [
    "print(\"Hello, world!\")\n"
   ]
  },
  {
   "cell_type": "markdown",
   "id": "0df86c8c",
   "metadata": {},
   "source": [
    "It's a good idea to add comments to your code. These commends not only help you to remember what you did but also help others to understand your steps and objectives. To write comments, use the symbole <code>#</code> before the commend. When running the code, everythng past <code>#</code> will be ignored by the runtime."
   ]
  },
  {
   "cell_type": "code",
   "execution_count": null,
   "id": "8e8f6da7",
   "metadata": {},
   "outputs": [],
   "source": [
    "print(\"Hello, world!\") # the function print() will print the string it takes as input/argument."
   ]
  },
  {
   "cell_type": "markdown",
   "id": "c155aac8",
   "metadata": {},
   "source": [
    "\n",
    "Many times, you will encounter errors when you use Python. Please take your time to read the error message before editing your code. Feel free to use ChatGPT to help you understand the error message. "
   ]
  },
  {
   "cell_type": "code",
   "execution_count": 3,
   "id": "21a34a49",
   "metadata": {},
   "outputs": [
    {
     "name": "stdout",
     "output_type": "stream",
     "text": [
      "Hello, world!\n"
     ]
    }
   ],
   "source": [
    "print(\"Hello, world!\") "
   ]
  },
  {
   "cell_type": "markdown",
   "id": "fa7f984c",
   "metadata": {},
   "source": [
    "### 1.2 Variables/Data structure\n",
    "Let's try to create a variable x. The equality sign means \"assignment\". Variable names can be anything as long as:\n",
    "- it contains only letters, numbers, or underscores.\n",
    "- the first character is not a number.\n",
    "- the variable name is not one of the reserved keywords.\n",
    "\n",
    "While the variable names can be of anything, it is recommended that you use either of these:\n",
    "- camel case (e.g., variableName)\n",
    "- snake case (e.g., variable_name)\n",
    "\n",
    "### 1.3 Data Type \n",
    "The primary data types within Pyton are integers, floats, boolean, and strings. They can be further stored in Python as lists and dictionaries. \n"
   ]
  },
  {
   "cell_type": "code",
   "execution_count": null,
   "id": "6a88e957",
   "metadata": {},
   "outputs": [],
   "source": [
    "x=30 #integer\n",
    "y=1.23 #float\n",
    "url = \"https://serpapi.com/search.json\" #string\n",
    "ascending=True\n",
    " #An object of type Boolean takes one of the two values: True or False. \n",
    " #Please make sure to use uppercase \"T\" for True and uppercase \"F\" for False.\n"
   ]
  },
  {
   "cell_type": "markdown",
   "id": "1a1bfb2f",
   "metadata": {},
   "source": [
    "You can use the built-in function <code>type()</code> to check data type. Integers are refered to as <code>int</code>, floats as <code>float</code>, boolean as <code>bool</code>, and character string as <code>str</code>.\n"
   ]
  },
  {
   "cell_type": "markdown",
   "id": "3cdb842c",
   "metadata": {},
   "source": [
    "#### We can convert numbers to strings"
   ]
  },
  {
   "cell_type": "code",
   "execution_count": null,
   "id": "b0e10f18",
   "metadata": {},
   "outputs": [],
   "source": [
    "twitterAuthorID=123456\n",
    "str(twitterAuthorID)"
   ]
  },
  {
   "cell_type": "markdown",
   "id": "f6b0868a",
   "metadata": {},
   "source": [
    "We can cast boolean objects to other data types such ast integer. If we cast a boolean to an integer, it will be one if it is True and 0 if it is False."
   ]
  },
  {
   "cell_type": "code",
   "execution_count": null,
   "id": "4182ad17",
   "metadata": {},
   "outputs": [],
   "source": [
    "int(True)"
   ]
  },
  {
   "cell_type": "markdown",
   "id": "7946c2f4",
   "metadata": {},
   "source": [
    "> **Exercise**:\n",
    "what is the type for the expresssion \"twitterAuthorID1==twitterAuthorID2\"?\n"
   ]
  },
  {
   "cell_type": "code",
   "execution_count": null,
   "id": "f6200b9e",
   "metadata": {},
   "outputs": [],
   "source": [
    "twitterAuthorID1=123456\n",
    "twitterAuthorID2=654321\n",
    "twitterAuthorID1==twitterAuthorID2"
   ]
  },
  {
   "cell_type": "markdown",
   "id": "746161ed",
   "metadata": {},
   "source": [
    "### 1.4 Lists and Dataframe\n",
    "The way data is stored is called its structure.   \n",
    "#### 1.4.1 List\n",
    "Lists are collections of items.\n"
   ]
  },
  {
   "cell_type": "code",
   "execution_count": 4,
   "id": "394dc442",
   "metadata": {},
   "outputs": [
    {
     "name": "stdout",
     "output_type": "stream",
     "text": [
      "city\n",
      "['city', 'date', 'source', 'medium', 'country']\n",
      "['city', 'date', 'medium', 'country']\n"
     ]
    }
   ],
   "source": [
    "dimensions=[] # an empty list.\n",
    "dimensions=[\"city\",\"date\",\"source\",\"medium\"] # a list.\n",
    "\n",
    "City=dimensions[0] #Python is a zero-based language.\n",
    "\n",
    "print(City)\n",
    "dimensions.append(\"country\")\n",
    "\n",
    "print(dimensions)\n",
    "dimensions.remove(\"source\")\n",
    "\n",
    "print(dimensions)"
   ]
  },
  {
   "cell_type": "code",
   "execution_count": null,
   "id": "05dcc940",
   "metadata": {},
   "outputs": [],
   "source": [
    "# Practice\n",
    "\n",
    "users=[\"Grammarly\",\"GrammarlyHelp\",\"Micro_GPT\",\"shishirmehrotra\"] # a list.\n",
    "\n",
    "# Retrieve shishirmehrotra\n",
    "\n",
    "# Add another Grammarly related account\n",
    "\n",
    "# Remove Micro_GPT"
   ]
  },
  {
   "cell_type": "markdown",
   "id": "30dc5ddb",
   "metadata": {},
   "source": [
    "\n",
    "#### 1.4.2 Dictionary  \n",
    "Dictionaries hold data that can be retrieved with reference items, or keys."
   ]
  },
  {
   "cell_type": "code",
   "execution_count": null,
   "id": "673fed79",
   "metadata": {},
   "outputs": [],
   "source": [
    "params={} # an empty dictionary\n",
    "params = {\n",
    "        \"engine\": \"google_shopping\",  # Specifies Google Shopping as the search engine\n",
    "        \"api_key\": SERPAPI_KEY,  # API key from environment variables\n",
    "        \"q\": query,  # The refined query from OpenAI\n",
    "    }\n",
    "\n",
    "params['q']='water bottle'\n",
    "\n",
    "print(params)\n",
    "print(params[\"q\"])"
   ]
  },
  {
   "cell_type": "markdown",
   "id": "775aa422",
   "metadata": {},
   "source": [
    "#### 1.4.3 Dataframe\n",
    "A Pandas DataFrame is a 2 dimensional data structure, like a table with rows and columns. Did you notice that we used the command ```import pandas as pd``` in the code? This is the very first time for us to import a package. Packages are an essential building block in programming. Without packages, we’d spend lots of time writing code that’s already been written. Finding and using the right package is key to effectively completing your task. \n",
    "\n",
    "Pandas is an open-source software library built on top of Python specifically for data manipulation and analysis. Pandas offers data structure and operations for  powerful, flexible, and easy-to-use data analysis and manipulation. Pandas strengthens Python by giving the popular programming language the capability to work with **spreadsheet-like data** enabling fast loading, aligning, manipulating, and merging, in addition to other key functions. \n"
   ]
  },
  {
   "cell_type": "code",
   "execution_count": 6,
   "id": "7aab7e24",
   "metadata": {},
   "outputs": [
    {
     "name": "stdout",
     "output_type": "stream",
     "text": [
      "    source   target\n",
      "0      Max  Miranda\n",
      "1  Miranda      Ben\n",
      "2  Miranda    Talha\n"
     ]
    },
    {
     "data": {
      "text/html": [
       "<div>\n",
       "<style scoped>\n",
       "    .dataframe tbody tr th:only-of-type {\n",
       "        vertical-align: middle;\n",
       "    }\n",
       "\n",
       "    .dataframe tbody tr th {\n",
       "        vertical-align: top;\n",
       "    }\n",
       "\n",
       "    .dataframe thead th {\n",
       "        text-align: right;\n",
       "    }\n",
       "</style>\n",
       "<table border=\"1\" class=\"dataframe\">\n",
       "  <thead>\n",
       "    <tr style=\"text-align: right;\">\n",
       "      <th></th>\n",
       "      <th>source</th>\n",
       "      <th>target</th>\n",
       "    </tr>\n",
       "  </thead>\n",
       "  <tbody>\n",
       "    <tr>\n",
       "      <th>1</th>\n",
       "      <td>Miranda</td>\n",
       "      <td>Ben</td>\n",
       "    </tr>\n",
       "    <tr>\n",
       "      <th>2</th>\n",
       "      <td>Miranda</td>\n",
       "      <td>Talha</td>\n",
       "    </tr>\n",
       "  </tbody>\n",
       "</table>\n",
       "</div>"
      ],
      "text/plain": [
       "    source target\n",
       "1  Miranda    Ben\n",
       "2  Miranda  Talha"
      ]
     },
     "execution_count": 6,
     "metadata": {},
     "output_type": "execute_result"
    }
   ],
   "source": [
    "import pandas as pd\n",
    "\n",
    "#We can also have a list of dictionaries. \n",
    "edge=[{'source':'Max','target':'Miranda'}\n",
    "    ,{'source':'Miranda','target':'Ben'}\n",
    "    ,{'source':'Miranda','target':'Talha'}] \n",
    "\n",
    "\n",
    "#load data into a DataFrame object:\n",
    "edge_df=pd.DataFrame(edge)\n",
    "\n",
    "print(edge_df) \n",
    "\n",
    "\n",
    "\n",
    "#index one column of a dataframe\n",
    "edge_df[\"source\"]\n",
    "\n",
    "#index one row \n",
    "edge_df.iloc[0]\n",
    "\n",
    "#subset\n",
    "\n",
    "edge_df[edge_df[\"source\"] ==\"Miranda\"] "
   ]
  },
  {
   "cell_type": "markdown",
   "id": "3598e708",
   "metadata": {},
   "source": [
    "> **Exercise**\n",
    "Can you create a list of dictionaries, with each dictionary containing three key-value pairs. The first key is \"source\", the second key is \"target\", and the third key is \"weight\":  \n",
    "\n",
    "| source      | target |  Weight |\n",
    "| ----------- | ----------- |----|\n",
    "| A           | B       |  20 |\n",
    "| C           | B        | 14|\n",
    "\n",
    "> Can you print the column 'target'?"
   ]
  },
  {
   "cell_type": "markdown",
   "id": "dce8f55d",
   "metadata": {},
   "source": [
    "> **Exercise**"
   ]
  },
  {
   "cell_type": "code",
   "execution_count": null,
   "id": "e73c9036",
   "metadata": {},
   "outputs": [],
   "source": [
    "!pip install serpapi\n",
    "from google.colab import userdata\n",
    "import serpapi\n",
    "import pandas as pd\n",
    "params = {\n",
    "  \"engine\": \"google\",\n",
    "  \"q\": \"Top sights in Paris\",\n",
    "  \"api_key\": userdata.get('SERPAPI_API_KEY')\n",
    "\n",
    "}\n",
    "\n",
    "search =serpapi.search(params)\n",
    "\n",
    "#search = GoogleSearch(params)\n",
    "top_sights = search[\"top_sights\"]\n",
    "#top_sights is a list of dictionaries\n",
    "top_sights_df= ## complete this line of code to generate a dataframe containing all sites.\n",
    "\n",
    "print(top_sights_df) \n",
    " "
   ]
  },
  {
   "cell_type": "markdown",
   "id": "2b3fae76",
   "metadata": {},
   "source": [
    "### 1.6 Functions\n",
    "Functions are prewritten blocks of code that can be invoked to carry out a certain set of actions. For example, print() is a function. You can call functions in multiple ways. \n",
    "- The most intuitive way is to use the function name, followed by parentheses.\n",
    "- Another way is to use \"dot notation\" by placing a period before the name of the function and after a specific object. For example, \n",
    "```\n",
    "target_object.function_name()\n",
    "```\n",
    "- Sometimes, we need to provide the function with certain variables or data values. They are called \"parameters\" or \"arguments\". They are passed to the function by putting them within a set of parentheses that follows the function name. For example, "
   ]
  },
  {
   "cell_type": "code",
   "execution_count": null,
   "id": "9367b0c3",
   "metadata": {},
   "outputs": [],
   "source": [
    "print(\"Hello!\")"
   ]
  },
  {
   "cell_type": "markdown",
   "id": "cddcd8e8",
   "metadata": {},
   "source": [
    "Python was powerful because hundreds and thousands of packages available for users to use for free. Each package could include a set of functions (also potentially data). Let's take a look at the package from Open AI API.\n",
    "\n",
    "\n",
    "### 1.8 Create Your Own Function\n",
    "In order to tell Python that you would like to create a function, you can use the ```def``` keyword. After the def keyword,you provide function name and any arguments you function will make use of. Then, you can outline the commands.\n",
    "```python\n",
    "def name(parameters):\n",
    "    Code to carry out desired actions.\n",
    "```\n",
    "Your functions will often require another keyword, the **return** keyword, to specify an expression, variable, or value you would like the function to pass back out to the main program once the function has finished running.\n",
    "```python\n",
    "def name(parameters):\n",
    "    Code to carry out desired actions.\n",
    "    return desiredExpression\n",
    "``` \n",
    "\n",
    "If your function returns a value, you can assign that value to a variable by calling the function and assigning it to a variable.\n",
    "\n",
    "```\n",
    "returned_value=function_used(list of parameters)\n",
    "```\n",
    "\n",
    "#### Example: create_url()\n",
    "\n",
    "\n",
    "Below is a function ```get_top_sights```. In producing the output, ```f-string``` was used. This function allows a placeholder for a text.\n",
    "\n",
    "These examples would help you understand how to use it. The placeholder can be specified by name, number, or not defined.\n",
    "```python\n",
    "txt1 = \"My name is {fname}, I'm {age}\".format(fname = \"John\", age = 36)\n",
    "txt2 = \"My name is {0}, I'm {1}\".format(\"John\",36)\n",
    "txt3 = \"My name is {}, I'm {}\".format(\"John\",36)\n",
    "txt4 = f\"My name is {fname}, I'm {age}\"  # Most popular\n",
    "\n",
    "```\n",
    "\n",
    " \n",
    " "
   ]
  }
 ],
 "metadata": {
  "kernelspec": {
   "display_name": "Python 3",
   "language": "python",
   "name": "python3"
  },
  "language_info": {
   "codemirror_mode": {
    "name": "ipython",
    "version": 3
   },
   "file_extension": ".py",
   "mimetype": "text/x-python",
   "name": "python",
   "nbconvert_exporter": "python",
   "pygments_lexer": "ipython3",
   "version": "3.11.12"
  }
 },
 "nbformat": 4,
 "nbformat_minor": 5
}
